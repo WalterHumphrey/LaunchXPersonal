{
 "cells": [
  {
   "cell_type": "markdown",
   "metadata": {},
   "source": [
    "Añadir el código necesario para crear una variable que guarde la velocidad del asteroide.\n",
    "Escribe una expresión de prueba para calcular si necesita una advertencia.\n",
    "Agregue las instrucciones que se ejecutarán si la expresión de prueba es true o false."
   ]
  },
  {
   "cell_type": "code",
   "execution_count": 1,
   "metadata": {},
   "outputs": [
    {
     "name": "stdout",
     "output_type": "stream",
     "text": [
      "Alerta de velocidad peligrosa\n"
     ]
    }
   ],
   "source": [
    "v_ast = 49\n",
    "\n",
    "if (v_ast > 25):\n",
    "    print('Alerta de velocidad peligrosa')\n",
    "else:\n",
    "    print('Velocidad normal')"
   ]
  },
  {
   "cell_type": "markdown",
   "metadata": {},
   "source": [
    "Agrega el código para crear una variable para un asteroide que viaja a 19 km/s\n",
    "Escribe varias expresiones de prueba para determinar si puedes ver el rayo de luz desde la tierra\n",
    "Agrega las instrucciones que se ejecutarán si las expresiones de prueba son True o False"
   ]
  },
  {
   "cell_type": "code",
   "execution_count": 7,
   "metadata": {},
   "outputs": [
    {
     "name": "stdout",
     "output_type": "stream",
     "text": [
      "El asteroide no se ve en el cielo\n"
     ]
    }
   ],
   "source": [
    "v_ast = 19\n",
    "\n",
    "if (v_ast > 20):\n",
    "    print('El asteroide se ve en el cielo')\n",
    "elif (v_ast == 20):\n",
    "    print('El asteroide se ve en el cielo')\n",
    "else:\n",
    "    print('El asteroide no se ve en el cielo')"
   ]
  },
  {
   "cell_type": "markdown",
   "metadata": {},
   "source": [
    "Agrega el código para crear nuevas variables para la velocidad y el tamaño del asteroide\n",
    "Para probar el código, prueba con varias velocidades y tamaños\n",
    "Escribe varias expresiones de prueba o combinaciones de expresiones de prueba para determinar qué mensa"
   ]
  },
  {
   "cell_type": "code",
   "execution_count": 13,
   "metadata": {},
   "outputs": [
    {
     "name": "stdout",
     "output_type": "stream",
     "text": [
      "El asteroide se ve en el cielo\n"
     ]
    }
   ],
   "source": [
    "v_ast = 28\n",
    "t_ast = 15\n",
    "\n",
    "if (t_ast > 25 and v_ast > 25):\n",
    "    print('Alerta de asteroide peligroso')\n",
    "elif (v_ast >= 20):\n",
    "    print('El asteroide se ve en el cielo')\n",
    "else:\n",
    "    print('El asteroide no se ve en el cielo ni representa peligro')"
   ]
  }
 ],
 "metadata": {
  "interpreter": {
   "hash": "b89b5cfaba6639976dc87ff2fec6d58faec662063367e2c229c520fe71072417"
  },
  "kernelspec": {
   "display_name": "Python 3.10.2 64-bit",
   "language": "python",
   "name": "python3"
  },
  "language_info": {
   "codemirror_mode": {
    "name": "ipython",
    "version": 3
   },
   "file_extension": ".py",
   "mimetype": "text/x-python",
   "name": "python",
   "nbconvert_exporter": "python",
   "pygments_lexer": "ipython3",
   "version": "3.10.2"
  },
  "orig_nbformat": 4
 },
 "nbformat": 4,
 "nbformat_minor": 2
}
